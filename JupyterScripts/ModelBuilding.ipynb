{
 "cells": [
  {
   "cell_type": "code",
   "execution_count": 56,
   "metadata": {},
   "outputs": [
    {
     "data": {
      "text/plain": [
       "GridSearchCV(cv=2,\n",
       "             estimator=RandomForestClassifier(bootstrap=False,\n",
       "                                              class_weight='balanced',\n",
       "                                              n_jobs=-1, random_state=33),\n",
       "             param_grid={'criterion': ['entropy'], 'max_depth': [8, 16],\n",
       "                         'max_features': ['auto'], 'n_estimators': [200]})"
      ]
     },
     "execution_count": 56,
     "metadata": {},
     "output_type": "execute_result"
    }
   ],
   "source": [
    "import pandas as pd\n",
    "import os\n",
    "from sklearn.model_selection import train_test_split\n",
    "from sklearn.ensemble import RandomForestClassifier\n",
    "from sklearn.model_selection import GridSearchCV\n",
    "os.chdir(\"D:\\\\GoogleDrive\\\\InterviewAssignment\\\\GoJekDriverAcceptanceGit\\\\GoJekAssignment\")\n",
    "\n",
    "df_train  = pd.read_csv(\"data\\\\processed\\\\transformed_dataset_train.csv\")\n",
    "df_test  = pd.read_csv(\"data\\\\processed\\\\transformed_dataset_test.csv\")\n",
    "\n",
    "\n",
    "features=[\"driver_gps_accuracy\",\n",
    "    \"trip_distance\",\n",
    "    \"hourofday\",\n",
    "    \"hourofday_average\",\n",
    "    \"driver_hourofday_average\",\n",
    "    \"dayofweek\",\n",
    "    \"dayofweek_average\",\n",
    "    \"driver_dayofweek_average\",\n",
    "    \"is_accepted_last5day_rolling_mean\"\n",
    "    # \"cluster_driver_labels\",\n",
    "    # \"cluster_customer_labels\"\n",
    "    ]\n",
    "\n",
    "param_grid_big = { \n",
    "    'n_estimators': [200, 500],\n",
    "    'max_features': ['auto', 'sqrt', 'log2'],\n",
    "    'max_depth' : [4,8,16,32],\n",
    "    'criterion' :['entropy'],\n",
    "}\n",
    "\n",
    "#Taking single value bcs of computational resource issue \n",
    "param_grid = { \n",
    "    'n_estimators': [200],\n",
    "    'max_features': ['auto'],\n",
    "    'max_depth' : [8,16],\n",
    "    'criterion' :['entropy'],\n",
    "}\n",
    "\n",
    "rf_estimator = RandomForestClassifier(n_jobs=-1,random_state=33,bootstrap=False,class_weight=\"balanced\")\n",
    "CV_rfc = GridSearchCV(estimator=rf_estimator, param_grid=param_grid, cv= 2)\n",
    "CV_rfc.fit(df_train[features],df_train['is_accepted'])"
   ]
  },
  {
   "cell_type": "code",
   "execution_count": 57,
   "metadata": {},
   "outputs": [
    {
     "data": {
      "text/plain": [
       "{'criterion': 'entropy',\n",
       " 'max_depth': 16,\n",
       " 'max_features': 'auto',\n",
       " 'n_estimators': 200}"
      ]
     },
     "execution_count": 57,
     "metadata": {},
     "output_type": "execute_result"
    }
   ],
   "source": [
    "CV_rfc.best_params_"
   ]
  },
  {
   "cell_type": "code",
   "execution_count": 58,
   "metadata": {},
   "outputs": [
    {
     "data": {
      "text/plain": [
       "{'driver_gps_accuracy': 0.006100602485373832,\n",
       " 'trip_distance': 0.021634242975308592,\n",
       " 'hourofday': 0.0030870522845956386,\n",
       " 'hourofday_average': 0.0037435928609502165,\n",
       " 'driver_hourofday_average': 0.53128867614759,\n",
       " 'dayofweek': 0.0017840452529426889,\n",
       " 'dayofweek_average': 0.0018621647342080894,\n",
       " 'driver_dayofweek_average': 0.35379902083842857,\n",
       " 'is_accepted_last5day_rolling_mean': 0.07670060242060238}"
      ]
     },
     "execution_count": 58,
     "metadata": {},
     "output_type": "execute_result"
    }
   ],
   "source": [
    "dict(zip(features, CV_rfc.best_estimator_.feature_importances_))"
   ]
  },
  {
   "cell_type": "code",
   "execution_count": 59,
   "metadata": {},
   "outputs": [],
   "source": [
    "from sklearn.metrics import f1_score\n",
    "y_true=df_test[\"is_accepted\"].values\n",
    "y_pred=CV_rfc.best_estimator_.predict(df_test[features].values)\n",
    "metrics = {}\n",
    "metrics[\"f_score_class_1\"]=f1_score(y_true,y_pred,pos_label=1)\n",
    "metrics[\"f_score_class_0\"]=f1_score(y_true,y_pred,pos_label=0)"
   ]
  },
  {
   "cell_type": "code",
   "execution_count": 60,
   "metadata": {},
   "outputs": [
    {
     "data": {
      "text/plain": [
       "{'f_score_class_1': 0.9117126730504619, 'f_score_class_0': 0.2633552014995314}"
      ]
     },
     "execution_count": 60,
     "metadata": {},
     "output_type": "execute_result"
    }
   ],
   "source": [
    "metrics"
   ]
  },
  {
   "cell_type": "code",
   "execution_count": 61,
   "metadata": {},
   "outputs": [
    {
     "data": {
      "text/plain": [
       "(array([0, 1], dtype=int64), array([ 3846, 36033], dtype=int64))"
      ]
     },
     "execution_count": 61,
     "metadata": {},
     "output_type": "execute_result"
    }
   ],
   "source": [
    "import numpy as np \n",
    "np.unique(y_true, return_counts=True)"
   ]
  }
 ],
 "metadata": {
  "kernelspec": {
   "display_name": "Python 3",
   "language": "python",
   "name": "python3"
  },
  "language_info": {
   "codemirror_mode": {
    "name": "ipython",
    "version": 3
   },
   "file_extension": ".py",
   "mimetype": "text/x-python",
   "name": "python",
   "nbconvert_exporter": "python",
   "pygments_lexer": "ipython3",
   "version": "3.8.3"
  }
 },
 "nbformat": 4,
 "nbformat_minor": 4
}
