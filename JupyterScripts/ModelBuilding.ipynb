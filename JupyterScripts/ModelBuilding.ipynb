{
 "cells": [
  {
   "cell_type": "code",
   "execution_count": 27,
   "metadata": {},
   "outputs": [
    {
     "data": {
      "text/plain": [
       "GridSearchCV(cv=4,\n",
       "             estimator=RandomForestClassifier(bootstrap=False,\n",
       "                                              class_weight='balanced',\n",
       "                                              n_jobs=-1, random_state=33),\n",
       "             param_grid={'criterion': ['entropy', 'gini'],\n",
       "                         'max_depth': [4, 8, 16, 32],\n",
       "                         'max_features': ['auto', 'sqrt', 'log2'],\n",
       "                         'n_estimators': [200, 500]})"
      ]
     },
     "execution_count": 27,
     "metadata": {},
     "output_type": "execute_result"
    }
   ],
   "source": [
    "import pandas as pd\n",
    "import os\n",
    "from sklearn.model_selection import train_test_split\n",
    "from sklearn.ensemble import RandomForestClassifier\n",
    "from sklearn.model_selection import GridSearchCV\n",
    "os.chdir(\"D:\\\\GoogleDrive\\\\InterviewAssignment\\\\GoJekDriverAcceptanceGit\\\\GoJekAssignment\")\n",
    "\n",
    "df_train  = pd.read_csv(\"data\\\\processed\\\\transformed_dataset_train.csv\")\n",
    "df_test  = pd.read_csv(\"data\\\\processed\\\\transformed_dataset_test.csv\")\n",
    "\n",
    "\n",
    "features=[\"driver_gps_accuracy\",\n",
    "    \"trip_distance\",\n",
    "    \"hourofday\",\n",
    "    \"hourofday_average\",\n",
    "    \"driver_hourofday_average\",\n",
    "    \"dayofweek\",\n",
    "    \"dayofweek_average\",\n",
    "    \"driver_dayofweek_average\",\n",
    "    \"is_accepted_last5day_rolling_mean\",\n",
    "    \"driver_cluster_label\",\n",
    "    \"customer_cluster_label\"\n",
    "    ]\n",
    "\n",
    "#Taking single value bcs of computational resource issue \n",
    "param_grid = { \n",
    "    'n_estimators': [200,300,400],\n",
    "    'max_features': ['auto'],\n",
    "    'max_depth' : [10,20,30],\n",
    "    'class_weight':['balanced']\n",
    "}\n",
    "\n",
    "param_grid = { \n",
    "    'n_estimators': [200, 500],\n",
    "    'max_features': ['auto', 'sqrt', 'log2'],\n",
    "    'max_depth' : [4,8,16,32],\n",
    "    'criterion' :['entropy','gini'],\n",
    "}\n",
    "\n",
    "\n",
    "\n",
    "rf_estimator = RandomForestClassifier(n_jobs=-1,random_state=33,bootstrap=False,class_weight=\"balanced\")\n",
    "CV_rfc = GridSearchCV(estimator=rf_estimator, param_grid=param_grid, cv= 4)\n",
    "CV_rfc.fit(df_train[features],df_train['is_accepted'])"
   ]
  },
  {
   "cell_type": "code",
   "execution_count": 28,
   "metadata": {},
   "outputs": [
    {
     "data": {
      "text/plain": [
       "{'criterion': 'gini',\n",
       " 'max_depth': 32,\n",
       " 'max_features': 'auto',\n",
       " 'n_estimators': 200}"
      ]
     },
     "execution_count": 28,
     "metadata": {},
     "output_type": "execute_result"
    }
   ],
   "source": [
    "CV_rfc.best_params_"
   ]
  },
  {
   "cell_type": "code",
   "execution_count": 29,
   "metadata": {},
   "outputs": [
    {
     "data": {
      "text/plain": [
       "{'driver_gps_accuracy': 0.013674540077657288,\n",
       " 'trip_distance': 0.03159488963622775,\n",
       " 'hourofday': 0.006082171021156395,\n",
       " 'hourofday_average': 0.006934781106140472,\n",
       " 'driver_hourofday_average': 0.4619503659641661,\n",
       " 'dayofweek': 0.003940748111814644,\n",
       " 'dayofweek_average': 0.0037843933139308666,\n",
       " 'driver_dayofweek_average': 0.34747332811275744,\n",
       " 'is_accepted_last5day_rolling_mean': 0.1119503992572772,\n",
       " 'driver_cluster_label': 0.006251690862789241,\n",
       " 'customer_cluster_label': 0.006362692536082706}"
      ]
     },
     "execution_count": 29,
     "metadata": {},
     "output_type": "execute_result"
    }
   ],
   "source": [
    "dict(zip(features, CV_rfc.best_estimator_.feature_importances_))"
   ]
  },
  {
   "cell_type": "code",
   "execution_count": 32,
   "metadata": {},
   "outputs": [
    {
     "data": {
      "text/plain": [
       "{'f_score_class_1': 0.9338222264629309, 'f_score_class_0': 0.2408131352619234}"
      ]
     },
     "execution_count": 32,
     "metadata": {},
     "output_type": "execute_result"
    }
   ],
   "source": [
    "from sklearn.metrics import f1_score\n",
    "y_true=df_test[\"is_accepted\"].values\n",
    "y_pred=CV_rfc.best_estimator_.predict(df_test[features].values)\n",
    "# y_pred=rf_estimator.predict(df_test[features].values)\n",
    "metrics = {}\n",
    "metrics[\"f_score_class_1\"]=f1_score(y_true,y_pred,pos_label=1)\n",
    "metrics[\"f_score_class_0\"]=f1_score(y_true,y_pred,pos_label=0)\n",
    "metrics"
   ]
  },
  {
   "cell_type": "code",
   "execution_count": 33,
   "metadata": {},
   "outputs": [
    {
     "data": {
      "text/plain": [
       "(array([0, 1], dtype=int64), array([ 3846, 36033], dtype=int64))"
      ]
     },
     "execution_count": 33,
     "metadata": {},
     "output_type": "execute_result"
    }
   ],
   "source": [
    "import numpy as np \n",
    "np.unique(y_true, return_counts=True)"
   ]
  }
 ],
 "metadata": {
  "kernelspec": {
   "display_name": "Python 3",
   "language": "python",
   "name": "python3"
  },
  "language_info": {
   "codemirror_mode": {
    "name": "ipython",
    "version": 3
   },
   "file_extension": ".py",
   "mimetype": "text/x-python",
   "name": "python",
   "nbconvert_exporter": "python",
   "pygments_lexer": "ipython3",
   "version": "3.8.3"
  }
 },
 "nbformat": 4,
 "nbformat_minor": 4
}
