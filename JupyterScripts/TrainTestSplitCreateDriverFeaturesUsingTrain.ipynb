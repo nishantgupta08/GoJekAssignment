{
 "cells": [
  {
   "cell_type": "code",
   "execution_count": 81,
   "metadata": {},
   "outputs": [],
   "source": [
    "import random \n",
    "random.seed(5)"
   ]
  },
  {
   "cell_type": "code",
   "execution_count": 56,
   "metadata": {},
   "outputs": [
    {
     "name": "stdout",
     "output_type": "stream",
     "text": [
      "Requirement already satisfied: pip in c:\\users\\nisha\\anaconda3\\lib\\site-packages (20.1.1)\n",
      "Requirement already satisfied: install in c:\\users\\nisha\\anaconda3\\lib\\site-packages (1.3.4)\n",
      "Requirement already satisfied: mdlp-discretization in c:\\users\\nisha\\anaconda3\\lib\\site-packages (0.3.3)\n",
      "Requirement already satisfied: scipy>=0.18.1 in c:\\users\\nisha\\anaconda3\\lib\\site-packages (from mdlp-discretization) (1.5.0)\n",
      "Requirement already satisfied: scikit-learn>=0.18.1 in c:\\users\\nisha\\anaconda3\\lib\\site-packages (from mdlp-discretization) (0.23.1)\n",
      "Requirement already satisfied: numpy>=1.11.2 in c:\\users\\nisha\\anaconda3\\lib\\site-packages (from mdlp-discretization) (1.20.0)\n",
      "Requirement already satisfied: joblib>=0.11 in c:\\users\\nisha\\anaconda3\\lib\\site-packages (from scikit-learn>=0.18.1->mdlp-discretization) (1.0.1)\n",
      "Requirement already satisfied: threadpoolctl>=2.0.0 in c:\\users\\nisha\\anaconda3\\lib\\site-packages (from scikit-learn>=0.18.1->mdlp-discretization) (2.1.0)\n"
     ]
    }
   ],
   "source": [
    "!pip install pip install mdlp-discretization"
   ]
  },
  {
   "cell_type": "code",
   "execution_count": 57,
   "metadata": {},
   "outputs": [],
   "source": [
    "import warnings\n",
    "warnings.filterwarnings('ignore')"
   ]
  },
  {
   "cell_type": "code",
   "execution_count": 58,
   "metadata": {},
   "outputs": [],
   "source": [
    "import pandas as pd\n",
    "import pickle\n",
    "import os\n",
    "import numpy as np\n",
    "from mdlp.discretization import MDLP\n",
    "from sklearn.model_selection import train_test_split\n",
    "os.chdir(\"D:\\\\GoogleDrive\\\\InterviewAssignment\\\\GoJekDriverAcceptanceGit\\\\GoJekAssignment\")"
   ]
  },
  {
   "cell_type": "code",
   "execution_count": 59,
   "metadata": {},
   "outputs": [],
   "source": [
    "dataset  = pd.read_csv(\"data\\\\processed\\\\dataset.csv\")\n",
    "dataset = dataset.sort_values(by='event_timestamp',ascending=True)\n",
    "# dataset_train, dataset_test = train_test_split(dataset,test_size = 0.2)\n",
    "dataset_train, dataset_test = dataset.head(int(len(dataset)*(80/100))),dataset.tail(int(len(dataset)*(20/100)))\n",
    "dataset_train.to_csv(\"data\\\\processed\\\\dataset_train.csv\")\n",
    "dataset_test.to_csv(\"data\\\\processed\\\\dataset_test.csv\")"
   ]
  },
  {
   "cell_type": "code",
   "execution_count": 60,
   "metadata": {},
   "outputs": [
    {
     "data": {
      "text/html": [
       "<div>\n",
       "<style scoped>\n",
       "    .dataframe tbody tr th:only-of-type {\n",
       "        vertical-align: middle;\n",
       "    }\n",
       "\n",
       "    .dataframe tbody tr th {\n",
       "        vertical-align: top;\n",
       "    }\n",
       "\n",
       "    .dataframe thead th {\n",
       "        text-align: right;\n",
       "    }\n",
       "</style>\n",
       "<table border=\"1\" class=\"dataframe\">\n",
       "  <thead>\n",
       "    <tr style=\"text-align: right;\">\n",
       "      <th></th>\n",
       "      <th>event_timestamp</th>\n",
       "      <th>driver_id</th>\n",
       "      <th>participant_status</th>\n",
       "      <th>order_id</th>\n",
       "      <th>experiment_key</th>\n",
       "      <th>driver_latitude</th>\n",
       "      <th>driver_longitude</th>\n",
       "      <th>driver_gps_accuracy</th>\n",
       "      <th>trip_distance</th>\n",
       "      <th>pickup_latitude</th>\n",
       "      <th>pickup_longitude</th>\n",
       "      <th>is_accepted</th>\n",
       "    </tr>\n",
       "  </thead>\n",
       "  <tbody>\n",
       "    <tr>\n",
       "      <th>234920</th>\n",
       "      <td>2015-05-10 00:00:11.845 UTC</td>\n",
       "      <td>288223322155</td>\n",
       "      <td>CREATED</td>\n",
       "      <td>257432374014</td>\n",
       "      <td>135546226388</td>\n",
       "      <td>-2.995167</td>\n",
       "      <td>104.767443</td>\n",
       "      <td>87.600</td>\n",
       "      <td>1.428</td>\n",
       "      <td>-2.994609</td>\n",
       "      <td>104.767860</td>\n",
       "      <td>0</td>\n",
       "    </tr>\n",
       "    <tr>\n",
       "      <th>234921</th>\n",
       "      <td>2015-05-10 00:00:12.963 UTC</td>\n",
       "      <td>288223322155</td>\n",
       "      <td>ACCEPTED</td>\n",
       "      <td>257432374014</td>\n",
       "      <td>135546226388</td>\n",
       "      <td>-2.995167</td>\n",
       "      <td>104.767443</td>\n",
       "      <td>87.600</td>\n",
       "      <td>1.428</td>\n",
       "      <td>-2.994609</td>\n",
       "      <td>104.767860</td>\n",
       "      <td>1</td>\n",
       "    </tr>\n",
       "    <tr>\n",
       "      <th>154995</th>\n",
       "      <td>2015-05-10 00:00:16.174 UTC</td>\n",
       "      <td>552835747248</td>\n",
       "      <td>CREATED</td>\n",
       "      <td>811842312011</td>\n",
       "      <td>291923492741</td>\n",
       "      <td>-2.932598</td>\n",
       "      <td>104.789056</td>\n",
       "      <td>4.348</td>\n",
       "      <td>2.501</td>\n",
       "      <td>-2.936892</td>\n",
       "      <td>104.792555</td>\n",
       "      <td>0</td>\n",
       "    </tr>\n",
       "    <tr>\n",
       "      <th>43210</th>\n",
       "      <td>2015-05-10 00:00:19.332 UTC</td>\n",
       "      <td>869163565780</td>\n",
       "      <td>CREATED</td>\n",
       "      <td>613128887100</td>\n",
       "      <td>495307579739</td>\n",
       "      <td>-2.919218</td>\n",
       "      <td>104.716482</td>\n",
       "      <td>3.000</td>\n",
       "      <td>5.212</td>\n",
       "      <td>-2.921464</td>\n",
       "      <td>104.717112</td>\n",
       "      <td>0</td>\n",
       "    </tr>\n",
       "    <tr>\n",
       "      <th>43218</th>\n",
       "      <td>2015-05-10 00:00:19.926 UTC</td>\n",
       "      <td>869163565780</td>\n",
       "      <td>ACCEPTED</td>\n",
       "      <td>613128887100</td>\n",
       "      <td>495307579739</td>\n",
       "      <td>-2.919218</td>\n",
       "      <td>104.716482</td>\n",
       "      <td>3.000</td>\n",
       "      <td>5.212</td>\n",
       "      <td>-2.921464</td>\n",
       "      <td>104.717112</td>\n",
       "      <td>1</td>\n",
       "    </tr>\n",
       "  </tbody>\n",
       "</table>\n",
       "</div>"
      ],
      "text/plain": [
       "                    event_timestamp     driver_id participant_status  \\\n",
       "234920  2015-05-10 00:00:11.845 UTC  288223322155            CREATED   \n",
       "234921  2015-05-10 00:00:12.963 UTC  288223322155           ACCEPTED   \n",
       "154995  2015-05-10 00:00:16.174 UTC  552835747248            CREATED   \n",
       "43210   2015-05-10 00:00:19.332 UTC  869163565780            CREATED   \n",
       "43218   2015-05-10 00:00:19.926 UTC  869163565780           ACCEPTED   \n",
       "\n",
       "            order_id  experiment_key  driver_latitude  driver_longitude  \\\n",
       "234920  257432374014    135546226388        -2.995167        104.767443   \n",
       "234921  257432374014    135546226388        -2.995167        104.767443   \n",
       "154995  811842312011    291923492741        -2.932598        104.789056   \n",
       "43210   613128887100    495307579739        -2.919218        104.716482   \n",
       "43218   613128887100    495307579739        -2.919218        104.716482   \n",
       "\n",
       "        driver_gps_accuracy  trip_distance  pickup_latitude  pickup_longitude  \\\n",
       "234920               87.600          1.428        -2.994609        104.767860   \n",
       "234921               87.600          1.428        -2.994609        104.767860   \n",
       "154995                4.348          2.501        -2.936892        104.792555   \n",
       "43210                 3.000          5.212        -2.921464        104.717112   \n",
       "43218                 3.000          5.212        -2.921464        104.717112   \n",
       "\n",
       "        is_accepted  \n",
       "234920            0  \n",
       "234921            1  \n",
       "154995            0  \n",
       "43210             0  \n",
       "43218             1  "
      ]
     },
     "execution_count": 60,
     "metadata": {},
     "output_type": "execute_result"
    }
   ],
   "source": [
    "df_train.head()"
   ]
  },
  {
   "cell_type": "code",
   "execution_count": 61,
   "metadata": {},
   "outputs": [
    {
     "data": {
      "text/html": [
       "<div>\n",
       "<style scoped>\n",
       "    .dataframe tbody tr th:only-of-type {\n",
       "        vertical-align: middle;\n",
       "    }\n",
       "\n",
       "    .dataframe tbody tr th {\n",
       "        vertical-align: top;\n",
       "    }\n",
       "\n",
       "    .dataframe thead th {\n",
       "        text-align: right;\n",
       "    }\n",
       "</style>\n",
       "<table border=\"1\" class=\"dataframe\">\n",
       "  <thead>\n",
       "    <tr style=\"text-align: right;\">\n",
       "      <th></th>\n",
       "      <th>event_timestamp</th>\n",
       "      <th>driver_id</th>\n",
       "      <th>participant_status</th>\n",
       "      <th>order_id</th>\n",
       "      <th>experiment_key</th>\n",
       "      <th>driver_latitude</th>\n",
       "      <th>driver_longitude</th>\n",
       "      <th>driver_gps_accuracy</th>\n",
       "      <th>trip_distance</th>\n",
       "      <th>pickup_latitude</th>\n",
       "      <th>pickup_longitude</th>\n",
       "      <th>is_accepted</th>\n",
       "    </tr>\n",
       "  </thead>\n",
       "  <tbody>\n",
       "    <tr>\n",
       "      <th>138909</th>\n",
       "      <td>2015-05-17 00:44:15.535 UTC</td>\n",
       "      <td>975175489439</td>\n",
       "      <td>CREATED</td>\n",
       "      <td>163686816212</td>\n",
       "      <td>122202044916</td>\n",
       "      <td>-3.049367</td>\n",
       "      <td>104.791269</td>\n",
       "      <td>65.498</td>\n",
       "      <td>8.794</td>\n",
       "      <td>-3.052633</td>\n",
       "      <td>104.784256</td>\n",
       "      <td>0</td>\n",
       "    </tr>\n",
       "    <tr>\n",
       "      <th>396486</th>\n",
       "      <td>2015-05-17 00:44:16.311 UTC</td>\n",
       "      <td>834534674631</td>\n",
       "      <td>CREATED</td>\n",
       "      <td>504159469300</td>\n",
       "      <td>577377619828</td>\n",
       "      <td>-2.972423</td>\n",
       "      <td>104.768210</td>\n",
       "      <td>47.027</td>\n",
       "      <td>2.111</td>\n",
       "      <td>-2.970810</td>\n",
       "      <td>104.763938</td>\n",
       "      <td>0</td>\n",
       "    </tr>\n",
       "    <tr>\n",
       "      <th>219480</th>\n",
       "      <td>2015-05-17 00:44:19.085 UTC</td>\n",
       "      <td>438583926376</td>\n",
       "      <td>CREATED</td>\n",
       "      <td>804109560910</td>\n",
       "      <td>787828218534</td>\n",
       "      <td>-2.915970</td>\n",
       "      <td>104.768713</td>\n",
       "      <td>3.141</td>\n",
       "      <td>4.148</td>\n",
       "      <td>-2.914109</td>\n",
       "      <td>104.763749</td>\n",
       "      <td>0</td>\n",
       "    </tr>\n",
       "    <tr>\n",
       "      <th>219479</th>\n",
       "      <td>2015-05-17 00:44:19.701 UTC</td>\n",
       "      <td>438583926376</td>\n",
       "      <td>ACCEPTED</td>\n",
       "      <td>804109560910</td>\n",
       "      <td>787828218534</td>\n",
       "      <td>-2.915970</td>\n",
       "      <td>104.768713</td>\n",
       "      <td>3.141</td>\n",
       "      <td>4.148</td>\n",
       "      <td>-2.914109</td>\n",
       "      <td>104.763749</td>\n",
       "      <td>1</td>\n",
       "    </tr>\n",
       "    <tr>\n",
       "      <th>128826</th>\n",
       "      <td>2015-05-17 00:44:24.948 UTC</td>\n",
       "      <td>232102147092</td>\n",
       "      <td>CREATED</td>\n",
       "      <td>668295252801</td>\n",
       "      <td>926374391979</td>\n",
       "      <td>-2.966517</td>\n",
       "      <td>104.751583</td>\n",
       "      <td>4.068</td>\n",
       "      <td>2.059</td>\n",
       "      <td>-2.966897</td>\n",
       "      <td>104.748923</td>\n",
       "      <td>0</td>\n",
       "    </tr>\n",
       "  </tbody>\n",
       "</table>\n",
       "</div>"
      ],
      "text/plain": [
       "                    event_timestamp     driver_id participant_status  \\\n",
       "138909  2015-05-17 00:44:15.535 UTC  975175489439            CREATED   \n",
       "396486  2015-05-17 00:44:16.311 UTC  834534674631            CREATED   \n",
       "219480  2015-05-17 00:44:19.085 UTC  438583926376            CREATED   \n",
       "219479  2015-05-17 00:44:19.701 UTC  438583926376           ACCEPTED   \n",
       "128826  2015-05-17 00:44:24.948 UTC  232102147092            CREATED   \n",
       "\n",
       "            order_id  experiment_key  driver_latitude  driver_longitude  \\\n",
       "138909  163686816212    122202044916        -3.049367        104.791269   \n",
       "396486  504159469300    577377619828        -2.972423        104.768210   \n",
       "219480  804109560910    787828218534        -2.915970        104.768713   \n",
       "219479  804109560910    787828218534        -2.915970        104.768713   \n",
       "128826  668295252801    926374391979        -2.966517        104.751583   \n",
       "\n",
       "        driver_gps_accuracy  trip_distance  pickup_latitude  pickup_longitude  \\\n",
       "138909               65.498          8.794        -3.052633        104.784256   \n",
       "396486               47.027          2.111        -2.970810        104.763938   \n",
       "219480                3.141          4.148        -2.914109        104.763749   \n",
       "219479                3.141          4.148        -2.914109        104.763749   \n",
       "128826                4.068          2.059        -2.966897        104.748923   \n",
       "\n",
       "        is_accepted  \n",
       "138909            0  \n",
       "396486            0  \n",
       "219480            0  \n",
       "219479            1  \n",
       "128826            0  "
      ]
     },
     "execution_count": 61,
     "metadata": {},
     "output_type": "execute_result"
    }
   ],
   "source": [
    "df_test.head()"
   ]
  },
  {
   "cell_type": "code",
   "execution_count": 62,
   "metadata": {},
   "outputs": [],
   "source": [
    "train  = pd.read_csv(\"data\\\\processed\\\\df_train.csv\")\n",
    "train_filtered = train[train[\"participant_status\"] != \"CREATED\"]\n",
    "train_filtered.loc[:,\"event_timestamp\"] = pd.to_datetime(train_filtered[\"event_timestamp\"], infer_datetime_format=True).dt.tz_convert('Asia/Kolkata')\n",
    "train_filtered.loc[:,\"date\"] = train_filtered.event_timestamp.dt.date\n",
    "train_filtered.loc[:,\"dayofweek\"] = train_filtered.event_timestamp.dt.dayofweek\n",
    "train_filtered.loc[:,\"hourofday\"] = train_filtered.event_timestamp.dt.hour\n",
    "#train_filtered = train_filtered.sort_values(by = ['driver_id', 'date'])"
   ]
  },
  {
   "cell_type": "markdown",
   "metadata": {},
   "source": [
    "<font size=\"4\">  Mean aceeptance rate of rides for various day of week  in general seems to be same though on weekend it seems to fall </font>"
   ]
  },
  {
   "cell_type": "code",
   "execution_count": 63,
   "metadata": {},
   "outputs": [
    {
     "data": {
      "text/plain": [
       "<matplotlib.axes._subplots.AxesSubplot at 0x1d65419c5e0>"
      ]
     },
     "execution_count": 63,
     "metadata": {},
     "output_type": "execute_result"
    },
    {
     "data": {
      "image/png": "[encoded data removed]",
      "text/plain": [
       "<Figure size 432x288 with 1 Axes>"
      ]
     },
     "metadata": {
      "needs_background": "light"
     },
     "output_type": "display_data"
    }
   ],
   "source": [
    "train_filtered.groupby(\"dayofweek\")['is_accepted'].mean().plot()"
   ]
  },
  {
   "cell_type": "markdown",
   "metadata": {},
   "source": [
    "<font size=\"4\">Mean aceeptance rate of rides for different hours seems to vary especially during late night it drops signficantly</font>"
   ]
  },
  {
   "cell_type": "code",
   "execution_count": 64,
   "metadata": {
    "scrolled": false
   },
   "outputs": [
    {
     "data": {
      "text/plain": [
       "<matplotlib.axes._subplots.AxesSubplot at 0x1d6431ddc40>"
      ]
     },
     "execution_count": 64,
     "metadata": {},
     "output_type": "execute_result"
    },
    {
     "data": {
      "image/png": "[encoded data removed]",
      "text/plain": [
       "<Figure size 432x288 with 1 Axes>"
      ]
     },
     "metadata": {
      "needs_background": "light"
     },
     "output_type": "display_data"
    }
   ],
   "source": [
    "train_filtered.groupby(\"hourofday\")['is_accepted'].mean().plot()"
   ]
  },
  {
   "cell_type": "markdown",
   "metadata": {},
   "source": [
    "<font size=\"3\"> Total Variance between the drivers behaviour in accepting rides on different timestamps we have to model this at driver level to find out which driver is more likely to accept given day, hour </font>"
   ]
  },
  {
   "cell_type": "code",
   "execution_count": 65,
   "metadata": {},
   "outputs": [
    {
     "data": {
      "text/plain": [
       "<matplotlib.axes._subplots.AxesSubplot at 0x1d643222c10>"
      ]
     },
     "execution_count": 65,
     "metadata": {},
     "output_type": "execute_result"
    },
    {
     "data": {
      "image/png": "[encoded data removed]",
      "text/plain": [
       "<Figure size 432x288 with 1 Axes>"
      ]
     },
     "metadata": {
      "needs_background": "light"
     },
     "output_type": "display_data"
    }
   ],
   "source": [
    "train_filtered.groupby(\"driver_id\")[\"is_accepted\"].var().plot()"
   ]
  },
  {
   "cell_type": "code",
   "execution_count": 66,
   "metadata": {},
   "outputs": [
    {
     "data": {
      "text/plain": [
       "('2015-05-10 00:00:11.845 UTC', '2015-05-17 00:44:08.139 UTC')"
      ]
     },
     "execution_count": 66,
     "metadata": {},
     "output_type": "execute_result"
    }
   ],
   "source": [
    "train.event_timestamp.min(),train.event_timestamp.max()"
   ]
  },
  {
   "cell_type": "markdown",
   "metadata": {},
   "source": [
    "<font size=\"4\"> Are there any drivers which are new in test ?? We will have to think about them while creating driver specific features </font>"
   ]
  },
  {
   "cell_type": "markdown",
   "metadata": {},
   "source": [
    "<font size=\"4\"> Creating General Participant Features </font>"
   ]
  },
  {
   "cell_type": "code",
   "execution_count": 67,
   "metadata": {},
   "outputs": [],
   "source": [
    "dayofweek_average = train_filtered.groupby(\"dayofweek\")['is_accepted'].mean().reset_index().rename(columns = {'is_accepted':'dayofweek_average'})\n",
    "hourofday_average = train_filtered.groupby(\"hourofday\")['is_accepted'].mean().reset_index().rename(columns = {'is_accepted':'hourofday_average'})"
   ]
  },
  {
   "cell_type": "code",
   "execution_count": 68,
   "metadata": {},
   "outputs": [],
   "source": [
    "train_filtered = train_filtered.merge(dayofweek_average,on=\"dayofweek\",how='right')\\\n",
    "                            .merge(hourofday_average,on=\"hourofday\",how='right')"
   ]
  },
  {
   "cell_type": "markdown",
   "metadata": {},
   "source": [
    "<font size=\"4\"> Driver Specific Features </font>"
   ]
  },
  {
   "cell_type": "code",
   "execution_count": 69,
   "metadata": {},
   "outputs": [],
   "source": [
    "driver_last5day_rolling_mean = train_filtered.groupby(['driver_id','date'])\\\n",
    "                                             .agg({'is_accepted':'mean'})\\\n",
    "                                             .groupby(level=0, group_keys=False)\\\n",
    "                                             .rolling(5, min_periods = 1)\\\n",
    "                                             .mean().reset_index()\n",
    "\n",
    "driver_last5day_rolling_mean = driver_last5day_rolling_mean.rename(columns = {'is_accepted':'is_accepted_last5day_rolling_mean'})"
   ]
  },
  {
   "cell_type": "code",
   "execution_count": 70,
   "metadata": {},
   "outputs": [
    {
     "data": {
      "text/plain": [
       "<matplotlib.axes._subplots.AxesSubplot at 0x1d643270910>"
      ]
     },
     "execution_count": 70,
     "metadata": {},
     "output_type": "execute_result"
    },
    {
     "data": {
      "image/png": "[encoded data removed]",
      "text/plain": [
       "<Figure size 432x288 with 1 Axes>"
      ]
     },
     "metadata": {
      "needs_background": "light"
     },
     "output_type": "display_data"
    }
   ],
   "source": [
    "driver_last5day_rolling_mean.groupby(\"driver_id\")['is_accepted_last5day_rolling_mean'].var().plot()"
   ]
  },
  {
   "cell_type": "markdown",
   "metadata": {},
   "source": [
    "<font size=\"3\"> Capturing variance in acceptance behaviour of different drivers on different day of week </font>"
   ]
  },
  {
   "cell_type": "code",
   "execution_count": 71,
   "metadata": {},
   "outputs": [
    {
     "data": {
      "image/png": "[encoded data removed]",
      "text/plain": [
       "<Figure size 432x288 with 1 Axes>"
      ]
     },
     "metadata": {
      "needs_background": "light"
     },
     "output_type": "display_data"
    }
   ],
   "source": [
    "driver_last2dayofweek_average = train_filtered.groupby([\"driver_id\",\"date\"],as_index=False)\\\n",
    "        .agg({'is_accepted': 'mean', 'dayofweek': 'first'}).reset_index()\\\n",
    "        .groupby([\"driver_id\",\"dayofweek\"])[\"is_accepted\"] \\\n",
    "        .apply(lambda x: x.tail(2).mean()).reset_index()\n",
    "\n",
    "driver_last2dayofweek_average = driver_last2dayofweek_average.rename(columns= {'is_accepted':'driver_dayofweek_average'})\n",
    "\n",
    "driver_last2dayofweek_average = driver_last2dayofweek_average.pivot('driver_id','dayofweek','driver_dayofweek_average').stack(dropna=False).reset_index(name='driver_dayofweek_average')\n",
    "\n",
    "driver_last2dayofweek_average.groupby(\"driver_id\")[\"driver_dayofweek_average\"].var().plot()\n",
    "\n",
    "driver_last2dayofweek_average['driver_dayofweek_average'].fillna(driver_last2dayofweek_average.groupby('driver_id')['driver_dayofweek_average'].transform('mean'),inplace = True)"
   ]
  },
  {
   "cell_type": "code",
   "execution_count": 100,
   "metadata": {
    "scrolled": true
   },
   "outputs": [
    {
     "data": {
      "image/png": "[encoded data removed]",
      "text/plain": [
       "<Figure size 432x288 with 1 Axes>"
      ]
     },
     "metadata": {
      "needs_background": "light"
     },
     "output_type": "display_data"
    }
   ],
   "source": [
    "driver_last2dayofweek_median = train_filtered.groupby([\"driver_id\",\"date\"],as_index=False)\\\n",
    "        .agg({'is_accepted': 'mean', 'dayofweek': 'first'}).reset_index()\\\n",
    "        .groupby([\"driver_id\",\"dayofweek\"])[\"is_accepted\"] \\\n",
    "        .apply(lambda x: x.median()).reset_index()\n",
    "\n",
    "driver_last2dayofweek_median = driver_last2dayofweek_median.rename(columns= {'is_accepted':'driver_dayofweek_median'})\n",
    "\n",
    "driver_last2dayofweek_median.groupby(\"driver_id\")[\"driver_dayofweek_median\"].var().plot()\n",
    "\n",
    "driver_last2dayofweek_median = driver_last2dayofweek_median.pivot('driver_id','dayofweek','driver_dayofweek_median').stack(dropna=False).reset_index(name='driver_dayofweek_median')\n",
    "\n",
    "driver_last2dayofweek_median['driver_dayofweek_median'].fillna(driver_last2dayofweek_median.groupby('driver_id')['driver_dayofweek_median'].transform('mean'),inplace = True)"
   ]
  },
  {
   "cell_type": "code",
   "execution_count": 103,
   "metadata": {},
   "outputs": [],
   "source": [
    "xyz = driver_last2dayofweek_median.merge(driver_last2dayofweek_average,on=[\"driver_id\",\"dayofweek\"],how=\"inner\")"
   ]
  },
  {
   "cell_type": "code",
   "execution_count": 104,
   "metadata": {},
   "outputs": [
    {
     "data": {
      "text/plain": [
       "Index(['driver_id', 'dayofweek', 'driver_dayofweek_median',\n",
       "       'driver_dayofweek_average'],\n",
       "      dtype='object')"
      ]
     },
     "execution_count": 104,
     "metadata": {},
     "output_type": "execute_result"
    }
   ],
   "source": [
    "xyz.columns"
   ]
  },
  {
   "cell_type": "code",
   "execution_count": 105,
   "metadata": {},
   "outputs": [
    {
     "data": {
      "text/html": [
       "<div>\n",
       "<style scoped>\n",
       "    .dataframe tbody tr th:only-of-type {\n",
       "        vertical-align: middle;\n",
       "    }\n",
       "\n",
       "    .dataframe tbody tr th {\n",
       "        vertical-align: top;\n",
       "    }\n",
       "\n",
       "    .dataframe thead th {\n",
       "        text-align: right;\n",
       "    }\n",
       "</style>\n",
       "<table border=\"1\" class=\"dataframe\">\n",
       "  <thead>\n",
       "    <tr style=\"text-align: right;\">\n",
       "      <th></th>\n",
       "      <th>driver_id</th>\n",
       "      <th>dayofweek</th>\n",
       "      <th>driver_dayofweek_median</th>\n",
       "      <th>driver_dayofweek_average</th>\n",
       "    </tr>\n",
       "  </thead>\n",
       "  <tbody>\n",
       "  </tbody>\n",
       "</table>\n",
       "</div>"
      ],
      "text/plain": [
       "Empty DataFrame\n",
       "Columns: [driver_id, dayofweek, driver_dayofweek_median, driver_dayofweek_average]\n",
       "Index: []"
      ]
     },
     "execution_count": 105,
     "metadata": {},
     "output_type": "execute_result"
    }
   ],
   "source": [
    "xyz.loc[xyz[\"driver_dayofweek_median\"] != xyz[\"driver_dayofweek_average\"]]"
   ]
  },
  {
   "cell_type": "markdown",
   "metadata": {},
   "source": [
    "<font size=\"3\"> Capturing variance in acceptance behaviour of different drivers on different hour of day </font>"
   ]
  },
  {
   "cell_type": "code",
   "execution_count": 72,
   "metadata": {},
   "outputs": [
    {
     "data": {
      "image/png": "[encoded data removed]",
      "text/plain": [
       "<Figure size 432x288 with 1 Axes>"
      ]
     },
     "metadata": {
      "needs_background": "light"
     },
     "output_type": "display_data"
    }
   ],
   "source": [
    "driver_hourofday_average = train_filtered.groupby([\"driver_id\",\"hourofday\"],as_index=False).agg({'is_accepted': 'mean'}).rename(columns= {'is_accepted':'driver_hourofday_average'})\n",
    "driver_hourofday_average = driver_hourofday_average.pivot('driver_id','hourofday','driver_hourofday_average').stack(dropna=False).reset_index(name='driver_hourofday_average')\n",
    "driver_hourofday_average.groupby(\"driver_id\")[\"driver_hourofday_average\"].var().plot()\n",
    "driver_hourofday_average['driver_hourofday_average'].fillna(driver_hourofday_average.groupby('driver_id')['driver_hourofday_average'].transform('mean'),inplace = True)"
   ]
  },
  {
   "cell_type": "code",
   "execution_count": 73,
   "metadata": {},
   "outputs": [],
   "source": [
    "dayofweek_features = driver_last2dayofweek_average.merge(dayofweek_average,on=\"dayofweek\",how=\"outer\")\n",
    "hourofday_features = driver_hourofday_average.merge(hourofday_average,on=\"hourofday\",how=\"outer\")\n",
    "last5day_features = driver_last5day_rolling_mean"
   ]
  },
  {
   "cell_type": "markdown",
   "metadata": {},
   "source": [
    "<font size=\"4\">  Entropy based discretisation of hours on the basis of acceptance and number of request based binning on traffic volumne </font>"
   ]
  },
  {
   "cell_type": "code",
   "execution_count": 74,
   "metadata": {},
   "outputs": [
    {
     "data": {
      "image/png": "[encoded data removed]",
      "text/plain": [
       "<Figure size 432x288 with 1 Axes>"
      ]
     },
     "metadata": {
      "needs_background": "light"
     },
     "output_type": "display_data"
    }
   ],
   "source": [
    "transformer = MDLP(continuous_features=[True])\n",
    "train_filtered['hourly_bins'] = transformer.fit_transform(np.array(train_filtered['hourofday']).reshape(-1, 1), train_filtered['is_accepted'])\n",
    "train_filtered.groupby('hourly_bins')['is_accepted'].mean().plot()\n",
    "pickle.dump(transformer, open('transformer.pkl', 'wb'))"
   ]
  },
  {
   "cell_type": "code",
   "execution_count": 75,
   "metadata": {},
   "outputs": [
    {
     "data": {
      "image/png": "[encoded data removed]",
      "text/plain": [
       "<Figure size 432x288 with 1 Axes>"
      ]
     },
     "metadata": {
      "needs_background": "light"
     },
     "output_type": "display_data"
    }
   ],
   "source": [
    "train_filtered.groupby('hourofday').size().sort_values(ascending=False).plot()\n",
    "train_filtered[\"is_busy_hour\"] = train_filtered[\"hourofday\"].apply(lambda x:  1 if x>=5 and x<=15 else 0)"
   ]
  },
  {
   "cell_type": "code",
   "execution_count": 76,
   "metadata": {},
   "outputs": [],
   "source": [
    "dayofweek_features.to_csv(\"data\\\\processed\\\\dayofweek_features_train.csv\")\n",
    "hourofday_features.to_csv(\"data\\\\processed\\\\hourofday_features_train.csv\")\n",
    "last5day_features.to_csv(\"data\\\\processed\\\\last5day_features_train.csv\")"
   ]
  },
  {
   "cell_type": "code",
   "execution_count": 79,
   "metadata": {},
   "outputs": [],
   "source": [
    "df_train[[\"driver_latitude\",\"driver_longitude\",\"pickup_latitude\",\"pickup_longitude\"]].to_csv(\"dataset_train_mahima.csv\")\n",
    "df_test[[\"driver_latitude\",\"driver_longitude\",\"pickup_latitude\",\"pickup_longitude\"]].to_csv(\"dataset_test_mahima.csv\")"
   ]
  }
 ],
 "metadata": {
  "kernelspec": {
   "display_name": "Python 3",
   "language": "python",
   "name": "python3"
  },
  "language_info": {
   "codemirror_mode": {
    "name": "ipython",
    "version": 3
   },
   "file_extension": ".py",
   "mimetype": "text/x-python",
   "name": "python",
   "nbconvert_exporter": "python",
   "pygments_lexer": "ipython3",
   "version": "3.8.3"
  }
 },
 "nbformat": 4,
 "nbformat_minor": 4
}
